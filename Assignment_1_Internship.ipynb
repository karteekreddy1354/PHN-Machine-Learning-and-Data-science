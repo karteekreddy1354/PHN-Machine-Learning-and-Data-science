{
  "nbformat": 4,
  "nbformat_minor": 0,
  "metadata": {
    "colab": {
      "provenance": []
    },
    "kernelspec": {
      "name": "python3",
      "display_name": "Python 3"
    },
    "language_info": {
      "name": "python"
    }
  },
  "cells": [
    {
      "cell_type": "code",
      "execution_count": 3,
      "metadata": {
        "id": "80O5Ty1CTNAx"
      },
      "outputs": [],
      "source": [
        "import pandas as pd"
      ]
    },
    {
      "cell_type": "code",
      "source": [
        "path = \"/content/car_models.csv\""
      ],
      "metadata": {
        "id": "e7vEeDhQcPpo"
      },
      "execution_count": 4,
      "outputs": []
    },
    {
      "cell_type": "code",
      "source": [
        "df = pd.read_csv(path)"
      ],
      "metadata": {
        "id": "B00gF30lURPy"
      },
      "execution_count": 5,
      "outputs": []
    },
    {
      "cell_type": "code",
      "source": [
        "print(df)"
      ],
      "metadata": {
        "colab": {
          "base_uri": "https://localhost:8080/"
        },
        "id": "51RiPNMPVVEL",
        "outputId": "75417a31-9117-430f-ea3b-fcd67228a8cc"
      },
      "execution_count": 6,
      "outputs": [
        {
          "output_type": "stream",
          "name": "stdout",
          "text": [
            "  Company Name             Model Name            Fuel Type     Body Style  \\\n",
            "0        Honda                  Civic               Petrol          Sedan   \n",
            "1       Toyota         Corolla Hybrid               Hybrid          Sedan   \n",
            "2        Tesla                Model S             Electric          Sedan   \n",
            "3          BMW                     X3               Diesel            SUV   \n",
            "4      Hyundai                    i20               Petrol      Hatchback   \n",
            "\n",
            "       Car Length  \n",
            "0          182 in  \n",
            "1          183 in  \n",
            "2          196 in  \n",
            "3          186 in  \n",
            "4          158 in  \n"
          ]
        }
      ]
    },
    {
      "cell_type": "code",
      "source": [
        "df_dict = pd.DataFrame(df)\n",
        "print(df_dict)"
      ],
      "metadata": {
        "colab": {
          "base_uri": "https://localhost:8080/"
        },
        "id": "FNm05ICuf6qt",
        "outputId": "298fd560-1b91-4cce-814a-9fd9027262e9"
      },
      "execution_count": 13,
      "outputs": [
        {
          "output_type": "stream",
          "name": "stdout",
          "text": [
            "  Company Name             Model Name            Fuel Type     Body Style  \\\n",
            "0        Honda                  Civic               Petrol          Sedan   \n",
            "1       Toyota         Corolla Hybrid               Hybrid          Sedan   \n",
            "2        Tesla                Model S             Electric          Sedan   \n",
            "3          BMW                     X3               Diesel            SUV   \n",
            "4      Hyundai                    i20               Petrol      Hatchback   \n",
            "\n",
            "       Car Length  \n",
            "0          182 in  \n",
            "1          183 in  \n",
            "2          196 in  \n",
            "3          186 in  \n",
            "4          158 in  \n"
          ]
        }
      ]
    },
    {
      "cell_type": "code",
      "source": [
        "path1 = \"/content/MODEL.xlsx\""
      ],
      "metadata": {
        "id": "aMNIXpmkch-S"
      },
      "execution_count": 7,
      "outputs": []
    },
    {
      "cell_type": "code",
      "source": [
        "DF = pd.read_excel(path1)"
      ],
      "metadata": {
        "id": "-ZIp-I4GeHVq"
      },
      "execution_count": 8,
      "outputs": []
    },
    {
      "cell_type": "code",
      "source": [
        "print(DF)"
      ],
      "metadata": {
        "colab": {
          "base_uri": "https://localhost:8080/"
        },
        "id": "YNweMIC6eSUB",
        "outputId": "8a8cda95-9a84-455a-d6a7-cbe69c45a3bc"
      },
      "execution_count": 9,
      "outputs": [
        {
          "output_type": "stream",
          "name": "stdout",
          "text": [
            "  Company Name Model Name On road pricing Loan amount Monthly EMI  \\\n",
            "0        Honda      Civic         $25,000     $20,000        $300   \n",
            "1       Toyota    Corolla         $26,000     $22,000        $350   \n",
            "2        Tesla    Model S         $70,000     $60,000        $700   \n",
            "3          BMW         X3         $50,000     $40,000        $500   \n",
            "4      Hyundai        i20         $15,000     $10,000        $150   \n",
            "\n",
            "   Interest Rate Monthly Principal Monthly Interest  \n",
            "0          0.050              $167             $133  \n",
            "1          0.045              $200             $150  \n",
            "2          0.035              $500             $200  \n",
            "3          0.060              $333             $167  \n",
            "4          0.070               $83              $67  \n"
          ]
        }
      ]
    },
    {
      "cell_type": "code",
      "source": [
        "DF_dict = pd.DataFrame(DF)\n",
        "print(DF_dict)"
      ],
      "metadata": {
        "colab": {
          "base_uri": "https://localhost:8080/"
        },
        "id": "xvxtUo1wefe2",
        "outputId": "20bd6a03-54e3-4214-b8b2-d3044a272257"
      },
      "execution_count": 12,
      "outputs": [
        {
          "output_type": "stream",
          "name": "stdout",
          "text": [
            "  Company Name Model Name On road pricing Loan amount Monthly EMI  \\\n",
            "0        Honda      Civic         $25,000     $20,000        $300   \n",
            "1       Toyota    Corolla         $26,000     $22,000        $350   \n",
            "2        Tesla    Model S         $70,000     $60,000        $700   \n",
            "3          BMW         X3         $50,000     $40,000        $500   \n",
            "4      Hyundai        i20         $15,000     $10,000        $150   \n",
            "\n",
            "   Interest Rate Monthly Principal Monthly Interest  \n",
            "0          0.050              $167             $133  \n",
            "1          0.045              $200             $150  \n",
            "2          0.035              $500             $200  \n",
            "3          0.060              $333             $167  \n",
            "4          0.070               $83              $67  \n"
          ]
        }
      ]
    },
    {
      "cell_type": "code",
      "source": [
        "merged_df = pd.merge(df_dict, DF_dict)\n",
        "print(merged_df)"
      ],
      "metadata": {
        "colab": {
          "base_uri": "https://localhost:8080/"
        },
        "id": "DZKYvBfvfu_B",
        "outputId": "98aea6da-9813-4b82-b5a8-ad7cfd1059c4"
      },
      "execution_count": 15,
      "outputs": [
        {
          "output_type": "stream",
          "name": "stdout",
          "text": [
            "  Company Name             Model Name            Fuel Type     Body Style  \\\n",
            "0        Honda                  Civic               Petrol          Sedan   \n",
            "1       Toyota         Corolla Hybrid               Hybrid          Sedan   \n",
            "2        Tesla                Model S             Electric          Sedan   \n",
            "3          BMW                     X3               Diesel            SUV   \n",
            "4      Hyundai                    i20               Petrol      Hatchback   \n",
            "\n",
            "       Car Length Model Name On road pricing Loan amount Monthly EMI  \\\n",
            "0          182 in      Civic         $25,000     $20,000        $300   \n",
            "1          183 in    Corolla         $26,000     $22,000        $350   \n",
            "2          196 in    Model S         $70,000     $60,000        $700   \n",
            "3          186 in         X3         $50,000     $40,000        $500   \n",
            "4          158 in        i20         $15,000     $10,000        $150   \n",
            "\n",
            "   Interest Rate Monthly Principal Monthly Interest  \n",
            "0          0.050              $167             $133  \n",
            "1          0.045              $200             $150  \n",
            "2          0.035              $500             $200  \n",
            "3          0.060              $333             $167  \n",
            "4          0.070               $83              $67  \n"
          ]
        }
      ]
    },
    {
      "cell_type": "code",
      "source": [
        "def add_gst(row):\n",
        "    return row['On road pricing'] + (row['On road pricing'] * int(0.18))"
      ],
      "metadata": {
        "id": "zOxJZRCdkitN"
      },
      "execution_count": 27,
      "outputs": []
    },
    {
      "cell_type": "code",
      "source": [
        "merged_df['On road pricing'] = merged_df.apply(add_gst, axis=1)"
      ],
      "metadata": {
        "id": "6_FWSD8emZMB"
      },
      "execution_count": 28,
      "outputs": []
    },
    {
      "cell_type": "code",
      "source": [
        "print(merged_df)"
      ],
      "metadata": {
        "colab": {
          "base_uri": "https://localhost:8080/"
        },
        "id": "GfD4SrpLmaBP",
        "outputId": "4ae5a2ec-fae3-4102-c9b2-b348de8253b4"
      },
      "execution_count": 29,
      "outputs": [
        {
          "output_type": "stream",
          "name": "stdout",
          "text": [
            "  Company Name             Model Name            Fuel Type     Body Style  \\\n",
            "0        Honda                  Civic               Petrol          Sedan   \n",
            "1       Toyota         Corolla Hybrid               Hybrid          Sedan   \n",
            "2        Tesla                Model S             Electric          Sedan   \n",
            "3          BMW                     X3               Diesel            SUV   \n",
            "4      Hyundai                    i20               Petrol      Hatchback   \n",
            "\n",
            "       Car Length Model Name                             On road pricing  \\\n",
            "0          182 in      Civic  $25,000$25,000$25,000$25,000$25,000$25,000   \n",
            "1          183 in    Corolla  $26,000$26,000$26,000$26,000$26,000$26,000   \n",
            "2          196 in    Model S  $70,000$70,000$70,000$70,000$70,000$70,000   \n",
            "3          186 in         X3  $50,000$50,000$50,000$50,000$50,000$50,000   \n",
            "4          158 in        i20  $15,000$15,000$15,000$15,000$15,000$15,000   \n",
            "\n",
            "  Loan amount Monthly EMI  Interest Rate Monthly Principal Monthly Interest  \n",
            "0     $20,000        $300          0.050              $167             $133  \n",
            "1     $22,000        $350          0.045              $200             $150  \n",
            "2     $60,000        $700          0.035              $500             $200  \n",
            "3     $40,000        $500          0.060              $333             $167  \n",
            "4     $10,000        $150          0.070               $83              $67  \n"
          ]
        }
      ]
    }
  ]
}