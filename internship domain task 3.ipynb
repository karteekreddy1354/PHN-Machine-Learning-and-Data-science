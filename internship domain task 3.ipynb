{
 "cells": [
  {
   "cell_type": "code",
   "execution_count": 19,
   "id": "94dc3c2a",
   "metadata": {},
   "outputs": [],
   "source": [
    "from openpyxl import Workbook"
   ]
  },
  {
   "cell_type": "code",
   "execution_count": 20,
   "id": "66839217",
   "metadata": {},
   "outputs": [],
   "source": [
    "wb = Workbook()"
   ]
  },
  {
   "cell_type": "code",
   "execution_count": 21,
   "id": "30df2eb0",
   "metadata": {},
   "outputs": [],
   "source": [
    "ws = wb.active"
   ]
  },
  {
   "cell_type": "code",
   "execution_count": 30,
   "id": "79407e6a",
   "metadata": {},
   "outputs": [],
   "source": [
    "wb.save(\"C:\\\\Users\\\\karteek\\\\OneDrive\\\\sample data\\\\fruits_data.xlsx\")"
   ]
  },
  {
   "cell_type": "code",
   "execution_count": 24,
   "id": "5dd060ca",
   "metadata": {},
   "outputs": [],
   "source": [
    "fruit_totals = {}"
   ]
  },
  {
   "cell_type": "code",
   "execution_count": 26,
   "id": "6bd210ac",
   "metadata": {},
   "outputs": [],
   "source": [
    "for row in ws.iter_rows(min_row=2, values_only=True):\n",
    "    # Add the quantity of the fruit to its total\n",
    "    fruit = row[0]\n",
    "    quantity = row[1]\n",
    "    if fruit in fruit_totals:\n",
    "        fruit_totals[fruit] += quantity\n",
    "    else:\n",
    "        fruit_totals[fruit] = quantity"
   ]
  },
  {
   "cell_type": "code",
   "execution_count": 29,
   "id": "ffb9c436",
   "metadata": {},
   "outputs": [],
   "source": [
    "import openpyxl\n",
    "results_wb = openpyxl.Workbook()\n",
    "results_ws = results_wb.active"
   ]
  },
  {
   "cell_type": "code",
   "execution_count": 16,
   "id": "5ac8b83f",
   "metadata": {},
   "outputs": [],
   "source": [
    "results_ws['A1'] = 'Fruit'\n",
    "results_ws['B1'] = 'Total Quantity'"
   ]
  },
  {
   "cell_type": "code",
   "execution_count": 17,
   "id": "74de0cc1",
   "metadata": {},
   "outputs": [],
   "source": [
    "row_index = 2\n",
    "for fruit, total in fruit_totals.items():\n",
    "    results_ws.cell(row=row_index, column=1, value=fruit)\n",
    "    results_ws.cell(row=row_index, column=2, value=total)\n",
    "    row_index += 1"
   ]
  },
  {
   "cell_type": "code",
   "execution_count": 18,
   "id": "cafb94cc",
   "metadata": {},
   "outputs": [],
   "source": [
    "results_wb.save('fruit_totals.xlsx')"
   ]
  },
  {
   "cell_type": "code",
   "execution_count": null,
   "id": "e7e80bf3",
   "metadata": {},
   "outputs": [],
   "source": []
  },
  {
   "cell_type": "code",
   "execution_count": null,
   "id": "b2233bd2",
   "metadata": {},
   "outputs": [],
   "source": []
  }
 ],
 "metadata": {
  "kernelspec": {
   "display_name": "Python 3 (ipykernel)",
   "language": "python",
   "name": "python3"
  },
  "language_info": {
   "codemirror_mode": {
    "name": "ipython",
    "version": 3
   },
   "file_extension": ".py",
   "mimetype": "text/x-python",
   "name": "python",
   "nbconvert_exporter": "python",
   "pygments_lexer": "ipython3",
   "version": "3.9.12"
  }
 },
 "nbformat": 4,
 "nbformat_minor": 5
}
